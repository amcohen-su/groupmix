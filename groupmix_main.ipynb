{
 "cells": [
  {
   "cell_type": "code",
   "execution_count": 1,
   "metadata": {},
   "outputs": [
    {
     "name": "stdout",
     "output_type": "stream",
     "text": [
      "\n",
      "\n",
      "            User authentication requires interaction with your\n",
      "            web browser. Once you enter your credentials and\n",
      "            give authorization, you will be redirected to\n",
      "            a url.  Paste that url you were directed to to\n",
      "            complete the authorization.\n",
      "\n",
      "        \n",
      "Opened https://accounts.spotify.com/authorize?client_id=b9c0a9e7a8224d1a959e0df144164e27&response_type=code&redirect_uri=http%3A%2F%2Flocalhost%3A8888%2Fcallback%2F&scope=user-library-read in your browser\n",
      "\n",
      "\n",
      "Enter the URL you were redirected to: http://localhost:8888/callback/?code=AQDos46PZqBZEXWahZQXbCpMB-U3i1JSF1YUQRq4vfT4nGzwRMJ68Y15ugJ7f8_CzlBtmqScYPzBZcZhzoAKfWDvyPrpn860i5s3wrYzxH0OvJDmwe9GSKkyqRUmAwtO5c0Q71HTncINq_dXRmAAeF6564hf-Kwg-brzyq7MTOH1IKgjRrf-KqmxoEcqZ2hlGA7H94KHZDV_1s6gwPCW7ndT8BvAk-75\n",
      "\n",
      "\n",
      "עולם משוגע - Tuna\n",
      "Al Tishali - Al Tishali\n",
      "יחזקאל - Taarovet Eskot\n",
      "אינך יכולה - Hatikva 6\n",
      "חייל שוקולד - Shlomi Shaban\n",
      "אהבה ראשונה - Dikla\n",
      "איפה הם כל אבותינו - Ishay Ribo\n",
      "כל השבוע לך - Eliad\n",
      "זמר נוגה - Daniela Spector\n",
      "בובה זהבה - Yuval Dayan\n",
      "אז מה - Guy & Yahel\n",
      "הורוסקופ - Boom Pam\n",
      "ילדה קטנה - Shimon Buskila\n",
      "Løb Stop Stå - Boom Clap Bachelors\n",
      "$Dreams - Max Frost\n",
      "Bailando - Raya Real\n",
      "Segrados Do Samba - Souleance\n",
      "Eye Nyam Nam'A'Mensuro - Henrik Schwarz Blend - Ebo Taylor\n",
      "Lital - Avihu Pinchasov Rhythm Club\n",
      "Shira - Avihu Pinchasov Rhythm Club\n"
     ]
    }
   ],
   "source": [
    "import pprint\n",
    "import sys\n",
    "import os\n",
    "import subprocess\n",
    "\n",
    "import spotipy\n",
    "import spotipy.util as util\n",
    "\n",
    "\n",
    "client_id = 'b9c0a9e7a8224d1a959e0df144164e27'\n",
    "client_secret = '90f565603ebb4c65820985c25482fdcc'\n",
    "redirect_uri = 'http://localhost:8888/callback/'\n",
    "\n",
    "scope = 'user-library-read'\n",
    "\n",
    "if len(sys.argv) > 1:\n",
    "    username = sys.argv[1]\n",
    "else:\n",
    "    print(\"Usage: %s\", username % (sys.argv[0],))\n",
    "    sys.exit()\n",
    "\n",
    "token = util.prompt_for_user_token(username, scope, client_id, client_secret, redirect_uri)\n",
    "\n",
    "if token:\n",
    "    sp = spotipy.Spotify(auth=token)\n",
    "    results = sp.current_user_saved_tracks()\n",
    "    for item in results['items']:\n",
    "        track = item['track']\n",
    "        print(track['name'] + ' - ' + track['artists'][0]['name'])\n",
    "else:\n",
    "    print(\"Can't get token for\", username)"
   ]
  },
  {
   "cell_type": "code",
   "execution_count": null,
   "metadata": {},
   "outputs": [],
   "source": []
  }
 ],
 "metadata": {
  "kernelspec": {
   "display_name": "Python 3",
   "language": "python",
   "name": "python3"
  },
  "language_info": {
   "codemirror_mode": {
    "name": "ipython",
    "version": 3
   },
   "file_extension": ".py",
   "mimetype": "text/x-python",
   "name": "python",
   "nbconvert_exporter": "python",
   "pygments_lexer": "ipython3",
   "version": "3.6.3"
  }
 },
 "nbformat": 4,
 "nbformat_minor": 2
}
