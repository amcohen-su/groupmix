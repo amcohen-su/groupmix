{
<<<<<<< HEAD
 "cells": [
  {
   "cell_type": "code",
   "execution_count": null,
   "metadata": {},
   "outputs": [],
   "source": [
    "import pprint\n",
    "import sys\n",
    "import os\n",
    "import subprocess\n",
    "\n",
    "import spotipy\n",
    "import spotipy.util as util\n",
    "\n",
    "client_id = 'b9c0a9e7a8224d1a959e0df144164e27'\n",
    "client_secret = '90f565603ebb4c65820985c25482fdcc'\n",
    "redirect_uri = 'http://localhost:8000/callback/'\n",
    "\n",
    "\n",
    "\n",
    "def username_function(username):\n",
    "    scope = 'user-top-read'\n",
    "    tracklist = list()\n",
    "    if len(sys.argv) > 1:\n",
    "        username = sys.argv[1]\n",
    "    else:\n",
    "        print(\"Usage: %s\", username % (sys.argv[0],))\n",
    "        sys.exit()\n",
    "\n",
    "    token = util.prompt_for_user_token(username, scope, client_id, client_secret, redirect_uri)\n",
    "\n",
    "    if token:\n",
    "        sp = spotipy.Spotify(auth=token)\n",
    "        results = sp.current_user_top_tracks(limit=20, offset=0, time_range='medium_term')\n",
    "        for track in results['items']:\n",
    "            #print(track['name'] + ' - ' + track['artists'][0]['name'])\n",
    "            tracklist.append(track['name'] + ' - ' + track['artists'][0]['name'])\n",
    "        return tracklist\n",
    "    else:\n",
    "        print(\"Can't get token for\", username)\n",
    "\n",
    "userinput = input(\"Please enter your username\")\n",
    "username_function(userinput)\n",
    "\n"
   ]
  }
 ],
 "metadata": {
  "kernelspec": {
   "display_name": "Python 3",
   "language": "python",
   "name": "python3"
  },
  "language_info": {
   "codemirror_mode": {
    "name": "ipython",
    "version": 3
   },
   "file_extension": ".py",
   "mimetype": "text/x-python",
   "name": "python",
   "nbconvert_exporter": "python",
   "pygments_lexer": "ipython3",
   "version": "3.6.3"
  }
 },
=======
 "cells": [],
 "metadata": {},
>>>>>>> 115e574b2d5695ab004752f8ecd909f09bae3bce
 "nbformat": 4,
 "nbformat_minor": 2
}
